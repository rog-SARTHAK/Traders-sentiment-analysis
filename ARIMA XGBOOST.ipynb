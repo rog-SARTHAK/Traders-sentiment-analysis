{
 "cells": [
  {
   "cell_type": "code",
   "execution_count": 1,
   "id": "0a071036",
   "metadata": {},
   "outputs": [
    {
     "name": "stdout",
     "output_type": "stream",
     "text": [
      "Collecting yfinance\n",
      "  Obtaining dependency information for yfinance from https://files.pythonhosted.org/packages/14/03/3c854ca3e02eedf614abba4b2e177c469bf3af58207fa30d5098c5d652fe/yfinance-0.2.37-py2.py3-none-any.whl.metadata\n",
      "  Downloading yfinance-0.2.37-py2.py3-none-any.whl.metadata (11 kB)\n",
      "Requirement already satisfied: pandas>=1.3.0 in c:\\users\\sarth\\anaconda3\\lib\\site-packages (from yfinance) (2.0.3)\n",
      "Requirement already satisfied: numpy>=1.16.5 in c:\\users\\sarth\\anaconda3\\lib\\site-packages (from yfinance) (1.24.3)\n",
      "Requirement already satisfied: requests>=2.31 in c:\\users\\sarth\\anaconda3\\lib\\site-packages (from yfinance) (2.31.0)\n",
      "Collecting multitasking>=0.0.7 (from yfinance)\n",
      "  Obtaining dependency information for multitasking>=0.0.7 from https://files.pythonhosted.org/packages/3e/8a/bb3160e76e844db9e69a413f055818969c8acade64e1a9ac5ce9dfdcf6c1/multitasking-0.0.11-py3-none-any.whl.metadata\n",
      "  Downloading multitasking-0.0.11-py3-none-any.whl.metadata (5.5 kB)\n",
      "Requirement already satisfied: lxml>=4.9.1 in c:\\users\\sarth\\anaconda3\\lib\\site-packages (from yfinance) (4.9.3)\n",
      "Requirement already satisfied: appdirs>=1.4.4 in c:\\users\\sarth\\anaconda3\\lib\\site-packages (from yfinance) (1.4.4)\n",
      "Requirement already satisfied: pytz>=2022.5 in c:\\users\\sarth\\anaconda3\\lib\\site-packages (from yfinance) (2023.3.post1)\n",
      "Collecting frozendict>=2.3.4 (from yfinance)\n",
      "  Downloading frozendict-2.4.0.tar.gz (314 kB)\n",
      "     ---------------------------------------- 0.0/314.6 kB ? eta -:--:--\n",
      "     - -------------------------------------- 10.2/314.6 kB ? eta -:--:--\n",
      "     ---------- ---------------------------- 81.9/314.6 kB 1.1 MB/s eta 0:00:01\n",
      "     -------------------------------------- 314.6/314.6 kB 2.8 MB/s eta 0:00:00\n",
      "  Installing build dependencies: started\n",
      "  Installing build dependencies: finished with status 'done'\n",
      "  Getting requirements to build wheel: started\n",
      "  Getting requirements to build wheel: finished with status 'done'\n",
      "  Preparing metadata (pyproject.toml): started\n",
      "  Preparing metadata (pyproject.toml): finished with status 'done'\n",
      "Collecting peewee>=3.16.2 (from yfinance)\n",
      "  Downloading peewee-3.17.1.tar.gz (3.0 MB)\n",
      "     ---------------------------------------- 0.0/3.0 MB ? eta -:--:--\n",
      "     ----- ---------------------------------- 0.4/3.0 MB 12.9 MB/s eta 0:00:01\n",
      "     -------------- ------------------------- 1.1/3.0 MB 13.7 MB/s eta 0:00:01\n",
      "     ------------------------ --------------- 1.8/3.0 MB 14.1 MB/s eta 0:00:01\n",
      "     --------------------------------- ------ 2.5/3.0 MB 14.4 MB/s eta 0:00:01\n",
      "     ---------------------------------------  2.9/3.0 MB 13.3 MB/s eta 0:00:01\n",
      "     ---------------------------------------- 3.0/3.0 MB 12.6 MB/s eta 0:00:00\n",
      "  Installing build dependencies: started\n",
      "  Installing build dependencies: finished with status 'done'\n",
      "  Getting requirements to build wheel: started\n",
      "  Getting requirements to build wheel: finished with status 'done'\n",
      "  Preparing metadata (pyproject.toml): started\n",
      "  Preparing metadata (pyproject.toml): finished with status 'done'\n",
      "Requirement already satisfied: beautifulsoup4>=4.11.1 in c:\\users\\sarth\\anaconda3\\lib\\site-packages (from yfinance) (4.12.2)\n",
      "Requirement already satisfied: html5lib>=1.1 in c:\\users\\sarth\\anaconda3\\lib\\site-packages (from yfinance) (1.1)\n",
      "Requirement already satisfied: soupsieve>1.2 in c:\\users\\sarth\\anaconda3\\lib\\site-packages (from beautifulsoup4>=4.11.1->yfinance) (2.4)\n",
      "Requirement already satisfied: six>=1.9 in c:\\users\\sarth\\anaconda3\\lib\\site-packages (from html5lib>=1.1->yfinance) (1.16.0)\n",
      "Requirement already satisfied: webencodings in c:\\users\\sarth\\anaconda3\\lib\\site-packages (from html5lib>=1.1->yfinance) (0.5.1)\n",
      "Requirement already satisfied: python-dateutil>=2.8.2 in c:\\users\\sarth\\anaconda3\\lib\\site-packages (from pandas>=1.3.0->yfinance) (2.8.2)\n",
      "Requirement already satisfied: tzdata>=2022.1 in c:\\users\\sarth\\anaconda3\\lib\\site-packages (from pandas>=1.3.0->yfinance) (2023.3)\n",
      "Requirement already satisfied: charset-normalizer<4,>=2 in c:\\users\\sarth\\anaconda3\\lib\\site-packages (from requests>=2.31->yfinance) (2.0.4)\n",
      "Requirement already satisfied: idna<4,>=2.5 in c:\\users\\sarth\\anaconda3\\lib\\site-packages (from requests>=2.31->yfinance) (3.4)\n",
      "Requirement already satisfied: urllib3<3,>=1.21.1 in c:\\users\\sarth\\anaconda3\\lib\\site-packages (from requests>=2.31->yfinance) (1.26.16)\n",
      "Requirement already satisfied: certifi>=2017.4.17 in c:\\users\\sarth\\anaconda3\\lib\\site-packages (from requests>=2.31->yfinance) (2023.11.17)\n",
      "Downloading yfinance-0.2.37-py2.py3-none-any.whl (72 kB)\n",
      "   ---------------------------------------- 0.0/73.0 kB ? eta -:--:--\n",
      "   ---------------------------------------- 73.0/73.0 kB ? eta 0:00:00\n",
      "Downloading multitasking-0.0.11-py3-none-any.whl (8.5 kB)\n",
      "Building wheels for collected packages: frozendict, peewee\n",
      "  Building wheel for frozendict (pyproject.toml): started\n",
      "  Building wheel for frozendict (pyproject.toml): finished with status 'done'\n",
      "  Created wheel for frozendict: filename=frozendict-2.4.0-py3-none-any.whl size=15471 sha256=278f004007ebc4d6294ebd487a5429156c89731961f23fdca8cb0497650f9a2d\n",
      "  Stored in directory: c:\\users\\sarth\\appdata\\local\\pip\\cache\\wheels\\31\\dd\\81\\a814e6f8cde8a1bbc1f088fdc273943371f10478b91a605e14\n",
      "  Building wheel for peewee (pyproject.toml): started\n",
      "  Building wheel for peewee (pyproject.toml): finished with status 'done'\n",
      "  Created wheel for peewee: filename=peewee-3.17.1-py3-none-any.whl size=136948 sha256=7e1766b1d4cf59f7d5d220190c430d0c2b595851a31bcc068089daa30dc3875c\n",
      "  Stored in directory: c:\\users\\sarth\\appdata\\local\\pip\\cache\\wheels\\33\\d2\\ca\\79b9807826bc7ef0b86a1ee28c372daaf073f9aa8756eedd7f\n",
      "Successfully built frozendict peewee\n",
      "Installing collected packages: peewee, multitasking, frozendict, yfinance\n",
      "Successfully installed frozendict-2.4.0 multitasking-0.0.11 peewee-3.17.1 yfinance-0.2.37\n"
     ]
    }
   ],
   "source": [
    "!pip install yfinance"
   ]
  },
  {
   "cell_type": "code",
   "execution_count": 2,
   "id": "313f3fbc",
   "metadata": {},
   "outputs": [
    {
     "name": "stdout",
     "output_type": "stream",
     "text": [
      "Collecting pmdarima\n",
      "  Obtaining dependency information for pmdarima from https://files.pythonhosted.org/packages/ac/f8/6c9364602b13f0dba129b53acd1344859690911a4d5021560d9fd6aa087f/pmdarima-2.0.4-cp311-cp311-win_amd64.whl.metadata\n",
      "  Downloading pmdarima-2.0.4-cp311-cp311-win_amd64.whl.metadata (8.0 kB)\n",
      "Requirement already satisfied: joblib>=0.11 in c:\\users\\sarth\\anaconda3\\lib\\site-packages (from pmdarima) (1.2.0)\n",
      "Collecting Cython!=0.29.18,!=0.29.31,>=0.29 (from pmdarima)\n",
      "  Obtaining dependency information for Cython!=0.29.18,!=0.29.31,>=0.29 from https://files.pythonhosted.org/packages/20/50/638cbeb5b202b39d0605f6170fe25ed75287152827b0282d64135995b32b/Cython-3.0.9-cp311-cp311-win_amd64.whl.metadata\n",
      "  Downloading Cython-3.0.9-cp311-cp311-win_amd64.whl.metadata (3.2 kB)\n",
      "Requirement already satisfied: numpy>=1.21.2 in c:\\users\\sarth\\anaconda3\\lib\\site-packages (from pmdarima) (1.24.3)\n",
      "Requirement already satisfied: pandas>=0.19 in c:\\users\\sarth\\anaconda3\\lib\\site-packages (from pmdarima) (2.0.3)\n",
      "Requirement already satisfied: scikit-learn>=0.22 in c:\\users\\sarth\\anaconda3\\lib\\site-packages (from pmdarima) (1.3.0)\n",
      "Requirement already satisfied: scipy>=1.3.2 in c:\\users\\sarth\\appdata\\roaming\\python\\python311\\site-packages (from pmdarima) (1.11.4)\n",
      "Requirement already satisfied: statsmodels>=0.13.2 in c:\\users\\sarth\\anaconda3\\lib\\site-packages (from pmdarima) (0.14.0)\n",
      "Requirement already satisfied: urllib3 in c:\\users\\sarth\\anaconda3\\lib\\site-packages (from pmdarima) (1.26.16)\n",
      "Requirement already satisfied: setuptools!=50.0.0,>=38.6.0 in c:\\users\\sarth\\anaconda3\\lib\\site-packages (from pmdarima) (68.0.0)\n",
      "Requirement already satisfied: packaging>=17.1 in c:\\users\\sarth\\anaconda3\\lib\\site-packages (from pmdarima) (23.1)\n",
      "Requirement already satisfied: python-dateutil>=2.8.2 in c:\\users\\sarth\\anaconda3\\lib\\site-packages (from pandas>=0.19->pmdarima) (2.8.2)\n",
      "Requirement already satisfied: pytz>=2020.1 in c:\\users\\sarth\\anaconda3\\lib\\site-packages (from pandas>=0.19->pmdarima) (2023.3.post1)\n",
      "Requirement already satisfied: tzdata>=2022.1 in c:\\users\\sarth\\anaconda3\\lib\\site-packages (from pandas>=0.19->pmdarima) (2023.3)\n",
      "Requirement already satisfied: threadpoolctl>=2.0.0 in c:\\users\\sarth\\anaconda3\\lib\\site-packages (from scikit-learn>=0.22->pmdarima) (2.2.0)\n",
      "Requirement already satisfied: patsy>=0.5.2 in c:\\users\\sarth\\anaconda3\\lib\\site-packages (from statsmodels>=0.13.2->pmdarima) (0.5.3)\n",
      "Requirement already satisfied: six in c:\\users\\sarth\\anaconda3\\lib\\site-packages (from patsy>=0.5.2->statsmodels>=0.13.2->pmdarima) (1.16.0)\n",
      "Downloading pmdarima-2.0.4-cp311-cp311-win_amd64.whl (614 kB)\n",
      "   ---------------------------------------- 0.0/614.7 kB ? eta -:--:--\n",
      "    --------------------------------------- 10.2/614.7 kB ? eta -:--:--\n",
      "   -- ------------------------------------ 41.0/614.7 kB 495.5 kB/s eta 0:00:02\n",
      "   --------- ------------------------------ 143.4/614.7 kB 1.2 MB/s eta 0:00:01\n",
      "   ---------------------------------------  614.4/614.7 kB 3.9 MB/s eta 0:00:01\n",
      "   ---------------------------------------- 614.7/614.7 kB 3.5 MB/s eta 0:00:00\n",
      "Downloading Cython-3.0.9-cp311-cp311-win_amd64.whl (2.8 MB)\n",
      "   ---------------------------------------- 0.0/2.8 MB ? eta -:--:--\n",
      "   ------- -------------------------------- 0.5/2.8 MB 10.2 MB/s eta 0:00:01\n",
      "   ---------------- ----------------------- 1.1/2.8 MB 11.9 MB/s eta 0:00:01\n",
      "   ------------------------- -------------- 1.8/2.8 MB 12.7 MB/s eta 0:00:01\n",
      "   ---------------------------------- ----- 2.4/2.8 MB 12.6 MB/s eta 0:00:01\n",
      "   ---------------------------------------  2.8/2.8 MB 11.8 MB/s eta 0:00:01\n",
      "   ---------------------------------------- 2.8/2.8 MB 11.1 MB/s eta 0:00:00\n",
      "Installing collected packages: Cython, pmdarima\n",
      "Successfully installed Cython-3.0.9 pmdarima-2.0.4\n"
     ]
    },
    {
     "name": "stderr",
     "output_type": "stream",
     "text": [
      "ERROR: pip's dependency resolver does not currently take into account all the packages that are installed. This behaviour is the source of the following dependency conflicts.\n",
      "tables 3.8.0 requires blosc2~=2.0.0, which is not installed.\n"
     ]
    }
   ],
   "source": [
    "!pip install pmdarima"
   ]
  },
  {
   "cell_type": "markdown",
   "id": "81425408",
   "metadata": {},
   "source": [
    "XGBOOST"
   ]
  },
  {
   "cell_type": "code",
   "execution_count": 7,
   "id": "cbda2d62",
   "metadata": {},
   "outputs": [
    {
     "name": "stdout",
     "output_type": "stream",
     "text": [
      "Collecting xgboost\n",
      "  Obtaining dependency information for xgboost from https://files.pythonhosted.org/packages/24/ec/ad387100fa3cc2b9b81af0829b5ecfe75ec5bb19dd7c19d4fea06fb81802/xgboost-2.0.3-py3-none-win_amd64.whl.metadata\n",
      "  Downloading xgboost-2.0.3-py3-none-win_amd64.whl.metadata (2.0 kB)\n",
      "Requirement already satisfied: numpy in c:\\users\\sarth\\anaconda3\\lib\\site-packages (from xgboost) (1.24.3)\n",
      "Requirement already satisfied: scipy in c:\\users\\sarth\\appdata\\roaming\\python\\python311\\site-packages (from xgboost) (1.11.4)\n",
      "Downloading xgboost-2.0.3-py3-none-win_amd64.whl (99.8 MB)\n",
      "   ---------------------------------------- 0.0/99.8 MB ? eta -:--:--\n",
      "   ---------------------------------------- 0.0/99.8 MB ? eta -:--:--\n",
      "   ---------------------------------------- 0.0/99.8 MB 660.6 kB/s eta 0:02:31\n",
      "   ---------------------------------------- 0.1/99.8 MB 1.2 MB/s eta 0:01:23\n",
      "   ---------------------------------------- 0.5/99.8 MB 3.4 MB/s eta 0:00:30\n",
      "   ---------------------------------------- 1.0/99.8 MB 5.5 MB/s eta 0:00:18\n",
      "   ---------------------------------------- 1.2/99.8 MB 4.8 MB/s eta 0:00:21\n",
      "    --------------------------------------- 1.5/99.8 MB 5.5 MB/s eta 0:00:18\n",
      "    --------------------------------------- 2.3/99.8 MB 6.6 MB/s eta 0:00:15\n",
      "   - -------------------------------------- 2.9/99.8 MB 7.7 MB/s eta 0:00:13\n",
      "   - -------------------------------------- 3.6/99.8 MB 8.2 MB/s eta 0:00:12\n",
      "   - -------------------------------------- 4.3/99.8 MB 9.2 MB/s eta 0:00:11\n",
      "   - -------------------------------------- 5.0/99.8 MB 9.6 MB/s eta 0:00:10\n",
      "   -- ------------------------------------- 5.3/99.8 MB 9.3 MB/s eta 0:00:11\n",
      "   -- ------------------------------------- 6.4/99.8 MB 10.4 MB/s eta 0:00:09\n",
      "   -- ------------------------------------- 7.0/99.8 MB 10.7 MB/s eta 0:00:09\n",
      "   --- ------------------------------------ 7.8/99.8 MB 11.1 MB/s eta 0:00:09\n",
      "   --- ------------------------------------ 8.4/99.8 MB 11.2 MB/s eta 0:00:09\n",
      "   --- ------------------------------------ 9.1/99.8 MB 11.5 MB/s eta 0:00:08\n",
      "   --- ------------------------------------ 9.9/99.8 MB 11.7 MB/s eta 0:00:08\n",
      "   ---- ----------------------------------- 10.6/99.8 MB 13.6 MB/s eta 0:00:07\n",
      "   ---- ----------------------------------- 10.9/99.8 MB 13.4 MB/s eta 0:00:07\n",
      "   ---- ----------------------------------- 12.0/99.8 MB 14.9 MB/s eta 0:00:06\n",
      "   ----- ---------------------------------- 12.6/99.8 MB 14.9 MB/s eta 0:00:06\n",
      "   ----- ---------------------------------- 13.3/99.8 MB 14.9 MB/s eta 0:00:06\n",
      "   ----- ---------------------------------- 14.0/99.8 MB 14.9 MB/s eta 0:00:06\n",
      "   ----- ---------------------------------- 14.7/99.8 MB 14.9 MB/s eta 0:00:06\n",
      "   ------ --------------------------------- 15.7/99.8 MB 15.2 MB/s eta 0:00:06\n",
      "   ------ --------------------------------- 16.6/99.8 MB 14.6 MB/s eta 0:00:06\n",
      "   ------ --------------------------------- 17.3/99.8 MB 14.5 MB/s eta 0:00:06\n",
      "   ------- -------------------------------- 17.9/99.8 MB 14.6 MB/s eta 0:00:06\n",
      "   ------- -------------------------------- 18.4/99.8 MB 14.6 MB/s eta 0:00:06\n",
      "   ------- -------------------------------- 19.1/99.8 MB 14.2 MB/s eta 0:00:06\n",
      "   ------- -------------------------------- 19.8/99.8 MB 14.2 MB/s eta 0:00:06\n",
      "   -------- ------------------------------- 20.3/99.8 MB 14.2 MB/s eta 0:00:06\n",
      "   -------- ------------------------------- 21.0/99.8 MB 14.6 MB/s eta 0:00:06\n",
      "   -------- ------------------------------- 21.8/99.8 MB 13.9 MB/s eta 0:00:06\n",
      "   --------- ------------------------------ 22.5/99.8 MB 13.9 MB/s eta 0:00:06\n",
      "   --------- ------------------------------ 23.1/99.8 MB 13.9 MB/s eta 0:00:06\n",
      "   --------- ------------------------------ 23.8/99.8 MB 13.9 MB/s eta 0:00:06\n",
      "   --------- ------------------------------ 24.5/99.8 MB 13.9 MB/s eta 0:00:06\n",
      "   ---------- ----------------------------- 25.2/99.8 MB 14.2 MB/s eta 0:00:06\n",
      "   ---------- ----------------------------- 25.8/99.8 MB 14.2 MB/s eta 0:00:06\n",
      "   ---------- ----------------------------- 26.6/99.8 MB 14.2 MB/s eta 0:00:06\n",
      "   ---------- ----------------------------- 27.2/99.8 MB 14.2 MB/s eta 0:00:06\n",
      "   ----------- ---------------------------- 27.9/99.8 MB 14.2 MB/s eta 0:00:06\n",
      "   ----------- ---------------------------- 28.6/99.8 MB 14.2 MB/s eta 0:00:05\n",
      "   ----------- ---------------------------- 29.3/99.8 MB 14.2 MB/s eta 0:00:05\n",
      "   ----------- ---------------------------- 29.9/99.8 MB 14.5 MB/s eta 0:00:05\n",
      "   ------------ --------------------------- 30.6/99.8 MB 14.9 MB/s eta 0:00:05\n",
      "   ------------ --------------------------- 31.3/99.8 MB 14.9 MB/s eta 0:00:05\n",
      "   ------------ --------------------------- 32.1/99.8 MB 14.9 MB/s eta 0:00:05\n",
      "   ------------- -------------------------- 32.7/99.8 MB 14.9 MB/s eta 0:00:05\n",
      "   ------------- -------------------------- 33.4/99.8 MB 14.9 MB/s eta 0:00:05\n",
      "   ------------- -------------------------- 34.0/99.8 MB 14.9 MB/s eta 0:00:05\n",
      "   ------------- -------------------------- 34.8/99.8 MB 14.9 MB/s eta 0:00:05\n",
      "   -------------- ------------------------- 35.4/99.8 MB 14.9 MB/s eta 0:00:05\n",
      "   -------------- ------------------------- 36.1/99.8 MB 14.9 MB/s eta 0:00:05\n",
      "   -------------- ------------------------- 36.8/99.8 MB 14.9 MB/s eta 0:00:05\n",
      "   --------------- ------------------------ 37.5/99.8 MB 14.9 MB/s eta 0:00:05\n",
      "   --------------- ------------------------ 38.2/99.8 MB 14.9 MB/s eta 0:00:05\n",
      "   --------------- ------------------------ 38.9/99.8 MB 14.9 MB/s eta 0:00:05\n",
      "   --------------- ------------------------ 39.5/99.8 MB 14.9 MB/s eta 0:00:05\n",
      "   ---------------- ----------------------- 40.2/99.8 MB 14.9 MB/s eta 0:00:05\n",
      "   ---------------- ----------------------- 40.9/99.8 MB 14.9 MB/s eta 0:00:04\n",
      "   ---------------- ----------------------- 41.5/99.8 MB 14.6 MB/s eta 0:00:05\n",
      "   ---------------- ----------------------- 42.2/99.8 MB 14.6 MB/s eta 0:00:04\n",
      "   ----------------- ---------------------- 42.9/99.8 MB 14.6 MB/s eta 0:00:04\n",
      "   ----------------- ---------------------- 43.7/99.8 MB 14.9 MB/s eta 0:00:04\n",
      "   ----------------- ---------------------- 44.4/99.8 MB 14.9 MB/s eta 0:00:04\n",
      "   ------------------ --------------------- 45.0/99.8 MB 14.9 MB/s eta 0:00:04\n",
      "   ------------------ --------------------- 45.7/99.8 MB 14.9 MB/s eta 0:00:04\n",
      "   ------------------ --------------------- 46.4/99.8 MB 14.5 MB/s eta 0:00:04\n",
      "   ------------------ --------------------- 47.0/99.8 MB 14.6 MB/s eta 0:00:04\n",
      "   ------------------- -------------------- 47.7/99.8 MB 14.6 MB/s eta 0:00:04\n",
      "   ------------------- -------------------- 48.4/99.8 MB 14.6 MB/s eta 0:00:04\n",
      "   ------------------- -------------------- 49.0/99.8 MB 14.6 MB/s eta 0:00:04\n",
      "   ------------------- -------------------- 49.6/99.8 MB 14.6 MB/s eta 0:00:04\n",
      "   -------------------- ------------------- 50.3/99.8 MB 14.6 MB/s eta 0:00:04\n",
      "   -------------------- ------------------- 50.9/99.8 MB 14.2 MB/s eta 0:00:04\n",
      "   -------------------- ------------------- 51.7/99.8 MB 14.5 MB/s eta 0:00:04\n",
      "   -------------------- ------------------- 52.3/99.8 MB 14.2 MB/s eta 0:00:04\n",
      "   --------------------- ------------------ 52.9/99.8 MB 14.2 MB/s eta 0:00:04\n",
      "   --------------------- ------------------ 53.6/99.8 MB 14.2 MB/s eta 0:00:04\n",
      "   --------------------- ------------------ 54.3/99.8 MB 14.2 MB/s eta 0:00:04\n",
      "   ---------------------- ----------------- 55.0/99.8 MB 14.2 MB/s eta 0:00:04\n",
      "   ---------------------- ----------------- 55.4/99.8 MB 14.2 MB/s eta 0:00:04\n",
      "   ---------------------- ----------------- 55.5/99.8 MB 13.1 MB/s eta 0:00:04\n",
      "   ---------------------- ----------------- 56.0/99.8 MB 13.1 MB/s eta 0:00:04\n",
      "   ---------------------- ----------------- 56.5/99.8 MB 12.9 MB/s eta 0:00:04\n",
      "   ---------------------- ----------------- 57.1/99.8 MB 12.6 MB/s eta 0:00:04\n",
      "   ----------------------- ---------------- 57.7/99.8 MB 12.6 MB/s eta 0:00:04\n",
      "   ----------------------- ---------------- 58.3/99.8 MB 12.6 MB/s eta 0:00:04\n",
      "   ----------------------- ---------------- 59.0/99.8 MB 12.6 MB/s eta 0:00:04\n",
      "   ----------------------- ---------------- 59.6/99.8 MB 12.6 MB/s eta 0:00:04\n",
      "   ----------------------- ---------------- 59.8/99.8 MB 12.6 MB/s eta 0:00:04\n",
      "   ----------------------- ---------------- 59.8/99.8 MB 12.6 MB/s eta 0:00:04\n",
      "   ------------------------ --------------- 60.1/99.8 MB 11.1 MB/s eta 0:00:04\n",
      "   ------------------------ --------------- 60.7/99.8 MB 11.3 MB/s eta 0:00:04\n",
      "   ------------------------ --------------- 61.4/99.8 MB 11.3 MB/s eta 0:00:04\n",
      "   ------------------------ --------------- 62.1/99.8 MB 11.1 MB/s eta 0:00:04\n",
      "   ------------------------- -------------- 62.8/99.8 MB 11.1 MB/s eta 0:00:04\n",
      "   ------------------------- -------------- 63.2/99.8 MB 11.1 MB/s eta 0:00:04\n",
      "   ------------------------- -------------- 63.8/99.8 MB 11.1 MB/s eta 0:00:04\n",
      "   ------------------------- -------------- 64.4/99.8 MB 10.7 MB/s eta 0:00:04\n",
      "   -------------------------- ------------- 65.1/99.8 MB 10.7 MB/s eta 0:00:04\n",
      "   -------------------------- ------------- 65.8/99.8 MB 11.7 MB/s eta 0:00:03\n",
      "   -------------------------- ------------- 66.4/99.8 MB 11.9 MB/s eta 0:00:03\n",
      "   -------------------------- ------------- 67.1/99.8 MB 12.1 MB/s eta 0:00:03\n",
      "   --------------------------- ------------ 67.7/99.8 MB 12.1 MB/s eta 0:00:03\n",
      "   --------------------------- ------------ 68.4/99.8 MB 12.1 MB/s eta 0:00:03\n",
      "   --------------------------- ------------ 69.1/99.8 MB 12.4 MB/s eta 0:00:03\n",
      "   --------------------------- ------------ 69.8/99.8 MB 12.4 MB/s eta 0:00:03\n",
      "   ---------------------------- ----------- 70.5/99.8 MB 13.9 MB/s eta 0:00:03\n",
      "   ---------------------------- ----------- 71.1/99.8 MB 13.9 MB/s eta 0:00:03\n",
      "   ---------------------------- ----------- 71.7/99.8 MB 13.9 MB/s eta 0:00:03\n",
      "   ----------------------------- ---------- 72.3/99.8 MB 13.9 MB/s eta 0:00:02\n",
      "   ----------------------------- ---------- 73.0/99.8 MB 13.9 MB/s eta 0:00:02\n",
      "   ----------------------------- ---------- 73.7/99.8 MB 14.2 MB/s eta 0:00:02\n",
      "   ----------------------------- ---------- 74.4/99.8 MB 14.6 MB/s eta 0:00:02\n",
      "   ------------------------------ --------- 75.1/99.8 MB 14.6 MB/s eta 0:00:02\n",
      "   ------------------------------ --------- 75.7/99.8 MB 14.2 MB/s eta 0:00:02\n",
      "   ------------------------------ --------- 76.4/99.8 MB 14.2 MB/s eta 0:00:02\n",
      "   ------------------------------ --------- 77.0/99.8 MB 14.2 MB/s eta 0:00:02\n",
      "   ------------------------------- -------- 77.6/99.8 MB 14.2 MB/s eta 0:00:02\n",
      "   ------------------------------- -------- 78.2/99.8 MB 14.2 MB/s eta 0:00:02\n",
      "   ------------------------------- -------- 78.9/99.8 MB 14.2 MB/s eta 0:00:02\n",
      "   ------------------------------- -------- 79.5/99.8 MB 13.9 MB/s eta 0:00:02\n",
      "   -------------------------------- ------- 80.2/99.8 MB 13.9 MB/s eta 0:00:02\n",
      "   -------------------------------- ------- 80.7/99.8 MB 13.9 MB/s eta 0:00:02\n",
      "   -------------------------------- ------- 81.2/99.8 MB 13.6 MB/s eta 0:00:02\n",
      "   -------------------------------- ------- 81.9/99.8 MB 13.6 MB/s eta 0:00:02\n",
      "   --------------------------------- ------ 82.5/99.8 MB 13.6 MB/s eta 0:00:02\n",
      "   --------------------------------- ------ 83.3/99.8 MB 13.6 MB/s eta 0:00:02\n",
      "   --------------------------------- ------ 83.9/99.8 MB 13.6 MB/s eta 0:00:02\n",
      "   --------------------------------- ------ 84.6/99.8 MB 13.6 MB/s eta 0:00:02\n",
      "   ---------------------------------- ----- 85.3/99.8 MB 13.6 MB/s eta 0:00:02\n",
      "   ---------------------------------- ----- 85.9/99.8 MB 13.6 MB/s eta 0:00:02\n",
      "   ---------------------------------- ----- 86.6/99.8 MB 13.9 MB/s eta 0:00:01\n",
      "   ----------------------------------- ---- 87.3/99.8 MB 13.9 MB/s eta 0:00:01\n",
      "   ----------------------------------- ---- 88.0/99.8 MB 13.9 MB/s eta 0:00:01\n",
      "   ----------------------------------- ---- 88.6/99.8 MB 13.9 MB/s eta 0:00:01\n",
      "   ----------------------------------- ---- 89.2/99.8 MB 13.6 MB/s eta 0:00:01\n",
      "   ------------------------------------ --- 89.9/99.8 MB 13.9 MB/s eta 0:00:01\n",
      "   ------------------------------------ --- 90.5/99.8 MB 13.9 MB/s eta 0:00:01\n",
      "   ------------------------------------ --- 91.2/99.8 MB 14.2 MB/s eta 0:00:01\n",
      "   ------------------------------------ --- 91.9/99.8 MB 14.2 MB/s eta 0:00:01\n",
      "   ------------------------------------- -- 92.6/99.8 MB 14.2 MB/s eta 0:00:01\n",
      "   ------------------------------------- -- 93.2/99.8 MB 14.2 MB/s eta 0:00:01\n",
      "   ------------------------------------- -- 93.9/99.8 MB 14.2 MB/s eta 0:00:01\n",
      "   ------------------------------------- -- 94.6/99.8 MB 14.2 MB/s eta 0:00:01\n",
      "   -------------------------------------- - 95.3/99.8 MB 14.2 MB/s eta 0:00:01\n",
      "   -------------------------------------- - 96.0/99.8 MB 14.2 MB/s eta 0:00:01\n",
      "   -------------------------------------- - 96.7/99.8 MB 14.2 MB/s eta 0:00:01\n",
      "   ---------------------------------------  97.3/99.8 MB 14.2 MB/s eta 0:00:01\n",
      "   ---------------------------------------  98.0/99.8 MB 14.2 MB/s eta 0:00:01\n",
      "   ---------------------------------------  98.7/99.8 MB 14.2 MB/s eta 0:00:01\n",
      "   ---------------------------------------  99.3/99.8 MB 14.2 MB/s eta 0:00:01\n",
      "   ---------------------------------------  99.7/99.8 MB 14.5 MB/s eta 0:00:01\n",
      "   ---------------------------------------  99.7/99.8 MB 14.5 MB/s eta 0:00:01\n",
      "   ---------------------------------------  99.7/99.8 MB 14.5 MB/s eta 0:00:01\n",
      "   ---------------------------------------  99.7/99.8 MB 14.5 MB/s eta 0:00:01\n",
      "   ---------------------------------------  99.7/99.8 MB 14.5 MB/s eta 0:00:01\n",
      "   ---------------------------------------- 99.8/99.8 MB 9.9 MB/s eta 0:00:00\n",
      "Installing collected packages: xgboost\n",
      "Successfully installed xgboost-2.0.3\n"
     ]
    }
   ],
   "source": [
    "!pip install xgboost"
   ]
  },
  {
   "cell_type": "code",
   "execution_count": 23,
   "id": "93e5bde5",
   "metadata": {},
   "outputs": [],
   "source": [
    "import datetime\n",
    "import matplotlib.pyplot as plt\n",
    "import numpy as np\n",
    "import optuna\n",
    "import pandas as pd\n",
    "import yfinance as yf\n",
    "\n",
    "#import pandas_datareader as pdr\n",
    "#from prophet import Prophet\n",
    "from sklearn.metrics import mean_absolute_error, mean_squared_error\n",
    "from sklearn.model_selection import train_test_split\n",
    "from statsmodels.tsa.arima.model import ARIMA\n",
    "from xgboost import XGBRegressor\n",
    "\n",
    "from pmdarima import auto_arima\n",
    "\n",
    "import warnings\n",
    "warnings.filterwarnings(\"ignore\")"
   ]
  },
  {
   "cell_type": "code",
   "execution_count": 22,
   "id": "69d54b6f",
   "metadata": {},
   "outputs": [
    {
     "name": "stdout",
     "output_type": "stream",
     "text": [
      "Collecting optuna\n",
      "  Obtaining dependency information for optuna from https://files.pythonhosted.org/packages/e9/db/f1641a99e1f95489baec8472d2c88c8f6b87f7be242a846864bd1a19c0f4/optuna-3.6.0-py3-none-any.whl.metadata\n",
      "  Downloading optuna-3.6.0-py3-none-any.whl.metadata (17 kB)\n",
      "Collecting alembic>=1.5.0 (from optuna)\n",
      "  Obtaining dependency information for alembic>=1.5.0 from https://files.pythonhosted.org/packages/7f/50/9fb3a5c80df6eb6516693270621676980acd6d5a9a7efdbfa273f8d616c7/alembic-1.13.1-py3-none-any.whl.metadata\n",
      "  Downloading alembic-1.13.1-py3-none-any.whl.metadata (7.4 kB)\n",
      "Collecting colorlog (from optuna)\n",
      "  Obtaining dependency information for colorlog from https://files.pythonhosted.org/packages/f3/18/3e867ab37a24fdf073c1617b9c7830e06ec270b1ea4694a624038fc40a03/colorlog-6.8.2-py3-none-any.whl.metadata\n",
      "  Downloading colorlog-6.8.2-py3-none-any.whl.metadata (10 kB)\n",
      "Requirement already satisfied: numpy in c:\\users\\sarth\\anaconda3\\lib\\site-packages (from optuna) (1.24.3)\n",
      "Requirement already satisfied: packaging>=20.0 in c:\\users\\sarth\\anaconda3\\lib\\site-packages (from optuna) (23.1)\n",
      "Requirement already satisfied: sqlalchemy>=1.3.0 in c:\\users\\sarth\\anaconda3\\lib\\site-packages (from optuna) (1.4.39)\n",
      "Requirement already satisfied: tqdm in c:\\users\\sarth\\anaconda3\\lib\\site-packages (from optuna) (4.65.0)\n",
      "Requirement already satisfied: PyYAML in c:\\users\\sarth\\anaconda3\\lib\\site-packages (from optuna) (6.0)\n",
      "Collecting Mako (from alembic>=1.5.0->optuna)\n",
      "  Obtaining dependency information for Mako from https://files.pythonhosted.org/packages/2b/8d/9f11d0b9ac521febb806e7f30dc5982d0f4f5821217712c59005fbc5c1e3/Mako-1.3.2-py3-none-any.whl.metadata\n",
      "  Downloading Mako-1.3.2-py3-none-any.whl.metadata (2.9 kB)\n",
      "Requirement already satisfied: typing-extensions>=4 in c:\\users\\sarth\\anaconda3\\lib\\site-packages (from alembic>=1.5.0->optuna) (4.7.1)\n",
      "Requirement already satisfied: greenlet!=0.4.17 in c:\\users\\sarth\\anaconda3\\lib\\site-packages (from sqlalchemy>=1.3.0->optuna) (2.0.1)\n",
      "Requirement already satisfied: colorama in c:\\users\\sarth\\anaconda3\\lib\\site-packages (from colorlog->optuna) (0.4.6)\n",
      "Requirement already satisfied: MarkupSafe>=0.9.2 in c:\\users\\sarth\\anaconda3\\lib\\site-packages (from Mako->alembic>=1.5.0->optuna) (2.1.1)\n",
      "Downloading optuna-3.6.0-py3-none-any.whl (379 kB)\n",
      "   ---------------------------------------- 0.0/379.9 kB ? eta -:--:--\n",
      "   --- ------------------------------------ 30.7/379.9 kB 1.3 MB/s eta 0:00:01\n",
      "   ----------------------------- ---------- 276.5/379.9 kB 3.4 MB/s eta 0:00:01\n",
      "   ---------------------------------------- 379.9/379.9 kB 3.9 MB/s eta 0:00:00\n",
      "Downloading alembic-1.13.1-py3-none-any.whl (233 kB)\n",
      "   ---------------------------------------- 0.0/233.4 kB ? eta -:--:--\n",
      "   --------------------------------------- 233.4/233.4 kB 13.9 MB/s eta 0:00:00\n",
      "Downloading colorlog-6.8.2-py3-none-any.whl (11 kB)\n",
      "Downloading Mako-1.3.2-py3-none-any.whl (78 kB)\n",
      "   ---------------------------------------- 0.0/78.7 kB ? eta -:--:--\n",
      "   ---------------------------------------- 78.7/78.7 kB ? eta 0:00:00\n",
      "Installing collected packages: Mako, colorlog, alembic, optuna\n",
      "Successfully installed Mako-1.3.2 alembic-1.13.1 colorlog-6.8.2 optuna-3.6.0\n"
     ]
    }
   ],
   "source": [
    "!pip install optuna"
   ]
  },
  {
   "cell_type": "code",
   "execution_count": 9,
   "id": "b8219572",
   "metadata": {},
   "outputs": [
    {
     "name": "stderr",
     "output_type": "stream",
     "text": [
      "[*********************100%%**********************]  1 of 1 completed\n"
     ]
    }
   ],
   "source": [
    "stock = yf.download('AMZN') # stockticker"
   ]
  },
  {
   "cell_type": "code",
   "execution_count": 10,
   "id": "de2e41dd",
   "metadata": {},
   "outputs": [],
   "source": [
    "num_days_pred = 30 # Number of days to predict in the future is inversely proportional to accuracy"
   ]
  },
  {
   "cell_type": "code",
   "execution_count": 13,
   "id": "5dfe13ac",
   "metadata": {},
   "outputs": [],
   "source": [
    "# We will use the last 2 years of stock data \n",
    "slice = int(len(stock)- 356*2)\n",
    "stock = stock.iloc[slice:]"
   ]
  },
  {
   "cell_type": "code",
   "execution_count": 15,
   "id": "24f8ce30",
   "metadata": {},
   "outputs": [],
   "source": [
    "# We will use only Close value column\n",
    "stock.drop(columns=['Open', 'High', 'Low', 'Adj Close', 'Volume'],inplace=True)\n"
   ]
  },
  {
   "cell_type": "code",
   "execution_count": 17,
   "id": "6cc98ae9",
   "metadata": {},
   "outputs": [],
   "source": [
    "# Function to calculate mean absolute error percentage\n",
    "def mean_absolute_percentage_error(y_true, y_pred): \n",
    "    \"\"\"Calculates MAPE given y_true and y_pred\"\"\"\n",
    "    y_true, y_pred = np.array(y_true), np.array(y_pred)\n",
    "    return np.mean(np.abs((y_true - y_pred) / y_true)) * 100\n",
    "\n",
    "def add_lags(df,num_days_pred=num_days_pred):\n",
    "    target = 'Close'\n",
    "    df['lag1'] = df[target].shift(num_days_pred)  \n",
    "    df['lag2'] = df[target].shift(num_days_pred*2)    \n",
    "    df['lag3'] = df[target].shift(num_days_pred*3)    \n",
    "    df['lag4'] = df[target].shift(num_days_pred*4)    \n",
    "    df['lag5'] = df[target].shift(num_days_pred*5)\n",
    "    df['lag6'] = df[target].shift(num_days_pred*6)\n",
    "    df['lag7'] = df[target].shift(num_days_pred*7)\n",
    "    df['lag8'] = df[target].shift(num_days_pred*8)\n",
    "    df['lag9'] = df[target].shift(num_days_pred*9)\n",
    "    df['lag10'] = df[target].shift(num_days_pred*10)\n",
    "    df['lag11'] = df[target].shift(num_days_pred*11)\n",
    "    df['lag12'] = df[target].shift(num_days_pred*12)\n",
    "\n",
    "\n",
    "\n",
    "    return df\n",
    "\n",
    "def create_features(df):\n",
    "    \"\"\"\n",
    "    Create time series features based on time series index.\n",
    "    \"\"\"\n",
    "    df = df.copy()\n",
    "    df['hour'] = df.index.hour\n",
    "    df['dayofweek'] = df.index.dayofweek\n",
    "    df['quarter'] = df.index.quarter\n",
    "    df['month'] = df.index.month\n",
    "    df['year'] = df.index.year\n",
    "    df['dayofyear'] = df.index.dayofyear\n",
    "    df['dayofmonth'] = df.index.day\n",
    "    df['weekofyear'] = df.index.isocalendar().week\n",
    "    return df"
   ]
  },
  {
   "cell_type": "code",
   "execution_count": 19,
   "id": "afccf089",
   "metadata": {},
   "outputs": [],
   "source": [
    "df_xgb = stock.copy()"
   ]
  },
  {
   "cell_type": "code",
   "execution_count": 20,
   "id": "b4d8c362",
   "metadata": {},
   "outputs": [],
   "source": [
    "def xgboostmodel(df_xgb,add_lags,create_features,num_days_pred=num_days_pred):\n",
    "\n",
    "    df_xgb = create_features(df_xgb)\n",
    "    df_xgb = add_lags(df_xgb)\n",
    "    \n",
    "    X = df_xgb.drop(columns='Close')\n",
    "    y = df_xgb['Close']\n",
    "    return X,y\n",
    "X,y = xgboostmodel(df_xgb ,add_lags,create_features,num_days_pred=30)"
   ]
  },
  {
   "cell_type": "code",
   "execution_count": 24,
   "id": "37e2bb4f",
   "metadata": {},
   "outputs": [
    {
     "name": "stderr",
     "output_type": "stream",
     "text": [
      "[I 2024-03-30 23:30:15,048] A new study created in memory with name: no-name-c0fef3d5-e3fe-419a-9363-a61fd0237361\n",
      "[I 2024-03-30 23:30:17,345] Trial 0 finished with value: 4.7932142742375 and parameters: {'n_estimators': 640, 'max_depth': 9, 'learning_rate': 0.09260709938382561, 'subsample': 0.7375018441228487, 'colsample_bytree': 0.9475505384413682, 'reg_alpha': 5.308510683229782, 'reg_lambda': 4.634731268017626}. Best is trial 0 with value: 4.7932142742375.\n",
      "[I 2024-03-30 23:30:18,001] Trial 1 finished with value: 4.588786396376272 and parameters: {'n_estimators': 499, 'max_depth': 3, 'learning_rate': 0.07330618887456991, 'subsample': 0.8093952741680029, 'colsample_bytree': 0.8640930596150003, 'reg_alpha': 5.08820156072969, 'reg_lambda': 8.402029740406721}. Best is trial 1 with value: 4.588786396376272.\n",
      "[I 2024-03-30 23:30:18,444] Trial 2 finished with value: 4.964758343840834 and parameters: {'n_estimators': 106, 'max_depth': 8, 'learning_rate': 0.0459606063582142, 'subsample': 0.6721709617824604, 'colsample_bytree': 0.7222556939071904, 'reg_alpha': 6.097464505747174, 'reg_lambda': 7.450333578431056}. Best is trial 1 with value: 4.588786396376272.\n",
      "[I 2024-03-30 23:30:19,450] Trial 3 finished with value: 4.388144737590092 and parameters: {'n_estimators': 205, 'max_depth': 9, 'learning_rate': 0.03796667377632298, 'subsample': 0.6022667675019102, 'colsample_bytree': 0.711842267927411, 'reg_alpha': 5.405726850007308, 'reg_lambda': 0.5200238880205066}. Best is trial 3 with value: 4.388144737590092.\n",
      "[I 2024-03-30 23:30:20,014] Trial 4 finished with value: 5.126044578240619 and parameters: {'n_estimators': 125, 'max_depth': 9, 'learning_rate': 0.031007844455810216, 'subsample': 0.7510038626979098, 'colsample_bytree': 0.6474129624795092, 'reg_alpha': 3.8685394955058614, 'reg_lambda': 7.636536122773831}. Best is trial 3 with value: 4.388144737590092.\n",
      "[I 2024-03-30 23:30:21,273] Trial 5 finished with value: 4.688667908721608 and parameters: {'n_estimators': 935, 'max_depth': 3, 'learning_rate': 0.04317832341271501, 'subsample': 0.8323614669379839, 'colsample_bytree': 0.999123324448644, 'reg_alpha': 6.639575909141573, 'reg_lambda': 5.76555333141102}. Best is trial 3 with value: 4.388144737590092.\n",
      "[I 2024-03-30 23:30:22,860] Trial 6 finished with value: 4.248526943969002 and parameters: {'n_estimators': 781, 'max_depth': 4, 'learning_rate': 0.046171362540057194, 'subsample': 0.6815136354943803, 'colsample_bytree': 0.7310751173903525, 'reg_alpha': 4.200509783739229, 'reg_lambda': 0.14331114022110514}. Best is trial 6 with value: 4.248526943969002.\n",
      "[I 2024-03-30 23:30:26,884] Trial 7 finished with value: 4.608682789049863 and parameters: {'n_estimators': 602, 'max_depth': 9, 'learning_rate': 0.04193642305920533, 'subsample': 0.8117208334882825, 'colsample_bytree': 0.9053808880964018, 'reg_alpha': 0.21167216416172918, 'reg_lambda': 0.23398042975574684}. Best is trial 6 with value: 4.248526943969002.\n",
      "[I 2024-03-30 23:30:32,049] Trial 8 finished with value: 4.380506398239641 and parameters: {'n_estimators': 787, 'max_depth': 10, 'learning_rate': 0.07114126287245388, 'subsample': 0.7942874139333036, 'colsample_bytree': 0.7342719685771797, 'reg_alpha': 0.4086626442173691, 'reg_lambda': 2.403393195147757}. Best is trial 6 with value: 4.248526943969002.\n",
      "[I 2024-03-30 23:30:33,423] Trial 9 finished with value: 5.075527022143087 and parameters: {'n_estimators': 609, 'max_depth': 3, 'learning_rate': 0.030976701700181998, 'subsample': 0.8930850520531372, 'colsample_bytree': 0.8554840737830005, 'reg_alpha': 6.404445590490706, 'reg_lambda': 7.859288851529969}. Best is trial 6 with value: 4.248526943969002.\n",
      "[I 2024-03-30 23:30:35,547] Trial 10 finished with value: 4.417513052704871 and parameters: {'n_estimators': 984, 'max_depth': 5, 'learning_rate': 0.010097846593946247, 'subsample': 0.9726616256461759, 'colsample_bytree': 0.6224011348852707, 'reg_alpha': 9.902012310257373, 'reg_lambda': 3.180971855347725}. Best is trial 6 with value: 4.248526943969002.\n",
      "[I 2024-03-30 23:30:38,114] Trial 11 finished with value: 4.529985984828416 and parameters: {'n_estimators': 768, 'max_depth': 6, 'learning_rate': 0.0658553882606157, 'subsample': 0.6749414112837161, 'colsample_bytree': 0.764459960604441, 'reg_alpha': 0.23490086063484203, 'reg_lambda': 2.2951455454451954}. Best is trial 6 with value: 4.248526943969002.\n",
      "[I 2024-03-30 23:30:40,109] Trial 12 finished with value: 4.5123933357379435 and parameters: {'n_estimators': 803, 'max_depth': 5, 'learning_rate': 0.07834090649599916, 'subsample': 0.7108918394698613, 'colsample_bytree': 0.8043013744698324, 'reg_alpha': 2.5101858410527322, 'reg_lambda': 2.0670911099952427}. Best is trial 6 with value: 4.248526943969002.\n",
      "[I 2024-03-30 23:30:41,736] Trial 13 finished with value: 4.258474244740454 and parameters: {'n_estimators': 390, 'max_depth': 7, 'learning_rate': 0.0571233216528313, 'subsample': 0.616421970028136, 'colsample_bytree': 0.6861670611503233, 'reg_alpha': 1.8752716106142562, 'reg_lambda': 1.4672853612549193}. Best is trial 6 with value: 4.248526943969002.\n",
      "[I 2024-03-30 23:30:43,275] Trial 14 finished with value: 4.3494300754513056 and parameters: {'n_estimators': 386, 'max_depth': 7, 'learning_rate': 0.05730882750016763, 'subsample': 0.618738374715416, 'colsample_bytree': 0.6643632789307036, 'reg_alpha': 2.531920663707626, 'reg_lambda': 1.086139516295161}. Best is trial 6 with value: 4.248526943969002.\n",
      "[I 2024-03-30 23:30:44,188] Trial 15 finished with value: 4.225525223270913 and parameters: {'n_estimators': 345, 'max_depth': 5, 'learning_rate': 0.05603420833767645, 'subsample': 0.6542926265927508, 'colsample_bytree': 0.6850097090524857, 'reg_alpha': 2.39063851109378, 'reg_lambda': 4.079475941247805}. Best is trial 15 with value: 4.225525223270913.\n",
      "[I 2024-03-30 23:30:45,385] Trial 16 finished with value: 4.571118937179556 and parameters: {'n_estimators': 334, 'max_depth': 5, 'learning_rate': 0.0184473143573979, 'subsample': 0.6683227825254392, 'colsample_bytree': 0.6023265212109609, 'reg_alpha': 3.5747779175555046, 'reg_lambda': 4.195732796262819}. Best is trial 15 with value: 4.225525223270913.\n",
      "[I 2024-03-30 23:30:46,391] Trial 17 finished with value: 4.63124488651181 and parameters: {'n_estimators': 486, 'max_depth': 4, 'learning_rate': 0.08576213175784111, 'subsample': 0.7042590769581655, 'colsample_bytree': 0.7941170222499631, 'reg_alpha': 8.282874180763429, 'reg_lambda': 6.240942293639231}. Best is trial 15 with value: 4.225525223270913.\n",
      "[I 2024-03-30 23:30:47,039] Trial 18 finished with value: 4.543993019612018 and parameters: {'n_estimators': 287, 'max_depth': 4, 'learning_rate': 0.05395126451031586, 'subsample': 0.8758116605854678, 'colsample_bytree': 0.7660515698598742, 'reg_alpha': 3.8775402620330244, 'reg_lambda': 3.8581570626548007}. Best is trial 15 with value: 4.225525223270913.\n",
      "[I 2024-03-30 23:30:49,323] Trial 19 finished with value: 4.251771819247867 and parameters: {'n_estimators': 701, 'max_depth': 6, 'learning_rate': 0.06516433127718074, 'subsample': 0.645813182806006, 'colsample_bytree': 0.6858501869210264, 'reg_alpha': 1.8133042030069801, 'reg_lambda': 6.042742667097267}. Best is trial 15 with value: 4.225525223270913.\n",
      "[I 2024-03-30 23:30:51,482] Trial 20 finished with value: 4.221198875977742 and parameters: {'n_estimators': 897, 'max_depth': 4, 'learning_rate': 0.025165017722286683, 'subsample': 0.762208892105017, 'colsample_bytree': 0.8104054931038032, 'reg_alpha': 3.297543376947682, 'reg_lambda': 9.92623923698834}. Best is trial 20 with value: 4.221198875977742.\n",
      "[I 2024-03-30 23:30:53,243] Trial 21 finished with value: 4.249856684815506 and parameters: {'n_estimators': 897, 'max_depth': 4, 'learning_rate': 0.024236145841930606, 'subsample': 0.7689503202123689, 'colsample_bytree': 0.8252178773546374, 'reg_alpha': 3.2641572647404575, 'reg_lambda': 8.9707769981786}. Best is trial 20 with value: 4.221198875977742.\n",
      "[I 2024-03-30 23:30:54,850] Trial 22 finished with value: 4.2658334495769115 and parameters: {'n_estimators': 865, 'max_depth': 4, 'learning_rate': 0.050129522184248765, 'subsample': 0.7144984417589649, 'colsample_bytree': 0.7580714102120931, 'reg_alpha': 4.423838896578233, 'reg_lambda': 9.693695025291028}. Best is trial 20 with value: 4.221198875977742.\n"
     ]
    },
    {
     "name": "stderr",
     "output_type": "stream",
     "text": [
      "[I 2024-03-30 23:30:56,808] Trial 23 finished with value: 4.335174627976394 and parameters: {'n_estimators': 726, 'max_depth': 5, 'learning_rate': 0.03594304480650051, 'subsample': 0.6459339851520357, 'colsample_bytree': 0.8371642420047618, 'reg_alpha': 1.3381597878714375, 'reg_lambda': 6.672410545697233}. Best is trial 20 with value: 4.221198875977742.\n",
      "[I 2024-03-30 23:30:59,618] Trial 24 finished with value: 4.208630949821794 and parameters: {'n_estimators': 987, 'max_depth': 6, 'learning_rate': 0.018388738956083155, 'subsample': 0.7700732459686831, 'colsample_bytree': 0.6995174276082093, 'reg_alpha': 3.3124718876430954, 'reg_lambda': 5.175879104617448}. Best is trial 24 with value: 4.208630949821794.\n",
      "[I 2024-03-30 23:31:02,442] Trial 25 finished with value: 4.3027809698931545 and parameters: {'n_estimators': 990, 'max_depth': 6, 'learning_rate': 0.01134860148751112, 'subsample': 0.8698554593932258, 'colsample_bytree': 0.6927395371990923, 'reg_alpha': 2.7958380216711136, 'reg_lambda': 3.261313401087108}. Best is trial 24 with value: 4.208630949821794.\n",
      "[I 2024-03-30 23:31:05,479] Trial 26 finished with value: 4.224919134071671 and parameters: {'n_estimators': 863, 'max_depth': 7, 'learning_rate': 0.02072396362155901, 'subsample': 0.9415278023588688, 'colsample_bytree': 0.6562639174013281, 'reg_alpha': 1.21524914624852, 'reg_lambda': 5.232818711187917}. Best is trial 24 with value: 4.208630949821794.\n",
      "[I 2024-03-30 23:31:08,382] Trial 27 finished with value: 4.2965759718207 and parameters: {'n_estimators': 844, 'max_depth': 7, 'learning_rate': 0.0213915322487276, 'subsample': 0.9095957548386043, 'colsample_bytree': 0.6415116539460118, 'reg_alpha': 1.0689024800480786, 'reg_lambda': 4.960329838935548}. Best is trial 24 with value: 4.208630949821794.\n",
      "[I 2024-03-30 23:31:13,029] Trial 28 finished with value: 4.636152526099729 and parameters: {'n_estimators': 928, 'max_depth': 8, 'learning_rate': 0.017030560473705873, 'subsample': 0.9954217043553651, 'colsample_bytree': 0.884626349094771, 'reg_alpha': 1.2233514877698786, 'reg_lambda': 9.841504310030166}. Best is trial 24 with value: 4.208630949821794.\n",
      "[I 2024-03-30 23:31:15,895] Trial 29 finished with value: 4.466829238335262 and parameters: {'n_estimators': 670, 'max_depth': 8, 'learning_rate': 0.026414614733596263, 'subsample': 0.9438567996318821, 'colsample_bytree': 0.7992618277824882, 'reg_alpha': 3.223391706090598, 'reg_lambda': 5.40880223408367}. Best is trial 24 with value: 4.208630949821794.\n",
      "[I 2024-03-30 23:31:17,859] Trial 30 finished with value: 4.461772311766081 and parameters: {'n_estimators': 856, 'max_depth': 6, 'learning_rate': 0.09436530362393344, 'subsample': 0.8423791451576638, 'colsample_bytree': 0.6562730503017494, 'reg_alpha': 4.475038100472343, 'reg_lambda': 6.835349918057258}. Best is trial 24 with value: 4.208630949821794.\n",
      "[I 2024-03-30 23:31:20,000] Trial 31 finished with value: 4.200592295226481 and parameters: {'n_estimators': 990, 'max_depth': 5, 'learning_rate': 0.016751807639521978, 'subsample': 0.774742653146791, 'colsample_bytree': 0.6020569670119601, 'reg_alpha': 2.0418776870057553, 'reg_lambda': 4.518050603256266}. Best is trial 31 with value: 4.200592295226481.\n",
      "[I 2024-03-30 23:31:23,102] Trial 32 finished with value: 4.2173642296348754 and parameters: {'n_estimators': 937, 'max_depth': 7, 'learning_rate': 0.016086159265872313, 'subsample': 0.7786662819632234, 'colsample_bytree': 0.6059228257606771, 'reg_alpha': 1.8889921092200959, 'reg_lambda': 5.041448244943486}. Best is trial 31 with value: 4.200592295226481.\n",
      "[I 2024-03-30 23:31:25,778] Trial 33 finished with value: 4.192372360271235 and parameters: {'n_estimators': 957, 'max_depth': 6, 'learning_rate': 0.014618830487446619, 'subsample': 0.7790117745547058, 'colsample_bytree': 0.6158387883154296, 'reg_alpha': 1.9756929959160419, 'reg_lambda': 4.616001219894305}. Best is trial 33 with value: 4.192372360271235.\n",
      "[I 2024-03-30 23:31:28,475] Trial 34 finished with value: 4.169219429049174 and parameters: {'n_estimators': 994, 'max_depth': 6, 'learning_rate': 0.012704445515276623, 'subsample': 0.7928527106842536, 'colsample_bytree': 0.6017786073030416, 'reg_alpha': 2.0274936866092745, 'reg_lambda': 4.6732677158705}. Best is trial 34 with value: 4.169219429049174.\n",
      "[I 2024-03-30 23:31:31,143] Trial 35 finished with value: 4.247210724289439 and parameters: {'n_estimators': 990, 'max_depth': 6, 'learning_rate': 0.012422984163336788, 'subsample': 0.8159811217710505, 'colsample_bytree': 0.6256711143486628, 'reg_alpha': 5.40250923579333, 'reg_lambda': 3.350173426208314}. Best is trial 34 with value: 4.169219429049174.\n",
      "[I 2024-03-30 23:31:33,829] Trial 36 finished with value: 4.206501696304459 and parameters: {'n_estimators': 997, 'max_depth': 6, 'learning_rate': 0.03026656137719449, 'subsample': 0.7410555304313424, 'colsample_bytree': 0.6231581167375585, 'reg_alpha': 2.0323353152585035, 'reg_lambda': 4.496924214278811}. Best is trial 34 with value: 4.169219429049174.\n",
      "[I 2024-03-30 23:31:35,897] Trial 37 finished with value: 4.176972774187845 and parameters: {'n_estimators': 944, 'max_depth': 5, 'learning_rate': 0.03110740017491649, 'subsample': 0.7515453148161052, 'colsample_bytree': 0.6227027067933572, 'reg_alpha': 2.0129214332486263, 'reg_lambda': 4.290411706923185}. Best is trial 34 with value: 4.169219429049174.\n",
      "[I 2024-03-30 23:31:38,042] Trial 38 finished with value: 4.179138957895104 and parameters: {'n_estimators': 943, 'max_depth': 5, 'learning_rate': 0.035760760078451366, 'subsample': 0.731869149451486, 'colsample_bytree': 0.6350471318991995, 'reg_alpha': 0.8282493412859819, 'reg_lambda': 3.6818114117900973}. Best is trial 34 with value: 4.169219429049174.\n",
      "[I 2024-03-30 23:31:40,201] Trial 39 finished with value: 4.128659181832207 and parameters: {'n_estimators': 933, 'max_depth': 5, 'learning_rate': 0.03663492708045191, 'subsample': 0.7414486893512351, 'colsample_bytree': 0.6385873990890626, 'reg_alpha': 1.163903107542168, 'reg_lambda': 2.8240557600304177}. Best is trial 39 with value: 4.128659181832207.\n",
      "[I 2024-03-30 23:31:41,286] Trial 40 finished with value: 4.526272502580073 and parameters: {'n_estimators': 823, 'max_depth': 3, 'learning_rate': 0.036418798984206247, 'subsample': 0.7305767447305963, 'colsample_bytree': 0.6452410013867217, 'reg_alpha': 0.5851899396839226, 'reg_lambda': 2.804433341976421}. Best is trial 39 with value: 4.128659181832207.\n",
      "[I 2024-03-30 23:31:43,384] Trial 41 finished with value: 4.159242363166962 and parameters: {'n_estimators': 929, 'max_depth': 5, 'learning_rate': 0.040078289862208245, 'subsample': 0.7889343631814598, 'colsample_bytree': 0.631416577809837, 'reg_alpha': 1.4393082509812158, 'reg_lambda': 3.450833822047358}. Best is trial 39 with value: 4.128659181832207.\n",
      "[I 2024-03-30 23:31:45,581] Trial 42 finished with value: 4.111038373878226 and parameters: {'n_estimators': 919, 'max_depth': 5, 'learning_rate': 0.04085248468079289, 'subsample': 0.7957591662347395, 'colsample_bytree': 0.6676743241246611, 'reg_alpha': 0.7137759615676439, 'reg_lambda': 3.714045422150588}. Best is trial 42 with value: 4.111038373878226.\n",
      "[I 2024-03-30 23:31:47,375] Trial 43 finished with value: 4.279274833228283 and parameters: {'n_estimators': 747, 'max_depth': 5, 'learning_rate': 0.04390109528751784, 'subsample': 0.833613140768831, 'colsample_bytree': 0.668029897692907, 'reg_alpha': 0.6694216403452025, 'reg_lambda': 2.650390714180623}. Best is trial 42 with value: 4.111038373878226.\n",
      "[I 2024-03-30 23:31:49,623] Trial 44 finished with value: 4.259265887660064 and parameters: {'n_estimators': 911, 'max_depth': 5, 'learning_rate': 0.039185739909022105, 'subsample': 0.7961537907713686, 'colsample_bytree': 0.7111308002020461, 'reg_alpha': 1.3512356470785964, 'reg_lambda': 1.5632791996751891}. Best is trial 42 with value: 4.111038373878226.\n",
      "[I 2024-03-30 23:31:51,491] Trial 45 finished with value: 4.477697953679455 and parameters: {'n_estimators': 889, 'max_depth': 4, 'learning_rate': 0.04793399453572015, 'subsample': 0.8153151738612449, 'colsample_bytree': 0.9827394736952401, 'reg_alpha': 7.305521147634261, 'reg_lambda': 3.5702788458115458}. Best is trial 42 with value: 4.111038373878226.\n",
      "[I 2024-03-30 23:31:53,439] Trial 46 finished with value: 4.201736149692937 and parameters: {'n_estimators': 803, 'max_depth': 5, 'learning_rate': 0.031235274998075938, 'subsample': 0.8508889507329638, 'colsample_bytree': 0.6714300199708985, 'reg_alpha': 0.1988426402409682, 'reg_lambda': 3.0653759181610534}. Best is trial 42 with value: 4.111038373878226.\n"
     ]
    },
    {
     "name": "stderr",
     "output_type": "stream",
     "text": [
      "[I 2024-03-30 23:31:54,439] Trial 47 finished with value: 4.390925526242887 and parameters: {'n_estimators': 534, 'max_depth': 4, 'learning_rate': 0.09978827749924826, 'subsample': 0.7492885092510562, 'colsample_bytree': 0.6377092938471118, 'reg_alpha': 1.5937942930915594, 'reg_lambda': 1.9468684086923087}. Best is trial 42 with value: 4.111038373878226.\n",
      "[I 2024-03-30 23:31:56,451] Trial 48 finished with value: 4.286536514352095 and parameters: {'n_estimators': 824, 'max_depth': 5, 'learning_rate': 0.042379530690379114, 'subsample': 0.7986191877273588, 'colsample_bytree': 0.7269149900489161, 'reg_alpha': 2.777545229498683, 'reg_lambda': 4.018437914390904}. Best is trial 42 with value: 4.111038373878226.\n",
      "[I 2024-03-30 23:31:57,663] Trial 49 finished with value: 4.546607000399575 and parameters: {'n_estimators': 942, 'max_depth': 3, 'learning_rate': 0.051409304230442876, 'subsample': 0.7188323623558888, 'colsample_bytree': 0.6233244610474354, 'reg_alpha': 0.06464815971834947, 'reg_lambda': 2.6760765467253966}. Best is trial 42 with value: 4.111038373878226.\n"
     ]
    },
    {
     "name": "stdout",
     "output_type": "stream",
     "text": [
      "Best trial:\n",
      "  Value: 4.111038373878226\n",
      "  Params: \n",
      "    n_estimators: 919\n",
      "    max_depth: 5\n",
      "    learning_rate: 0.04085248468079289\n",
      "    subsample: 0.7957591662347395\n",
      "    colsample_bytree: 0.6676743241246611\n",
      "    reg_alpha: 0.7137759615676439\n",
      "    reg_lambda: 3.714045422150588\n",
      "Test RMSE: 4.111038373878226\n"
     ]
    }
   ],
   "source": [
    "# Define objective function for Optuna\n",
    "def objective(trial):\n",
    "    # Define hyperparameters to search\n",
    "    param = {\n",
    "        'objective': 'reg:squarederror',\n",
    "        'eval_metric': 'rmse',\n",
    "        'n_estimators': trial.suggest_int('n_estimators', 100, 1000),\n",
    "        'max_depth': trial.suggest_int('max_depth', 3, 10),\n",
    "        'learning_rate': trial.suggest_float('learning_rate', 0.01, 0.1),\n",
    "        'subsample': trial.suggest_float('subsample', 0.6, 1.0),\n",
    "        'colsample_bytree': trial.suggest_float('colsample_bytree', 0.6, 1.0),\n",
    "        'reg_alpha': trial.suggest_float('reg_alpha', 0, 10),\n",
    "        'reg_lambda': trial.suggest_float('reg_lambda', 0, 10),\n",
    "        'verbosity': 0,\n",
    "        #'tree_method': 'gpu_hist',\n",
    "    }\n",
    "    \n",
    "    # Initialize XGBoost regressor with the suggested parameters\n",
    "    xgb = XGBRegressor(**param)\n",
    "    \n",
    "    # Fit the model on training data\n",
    "    xgb.fit(X_train, y_train)\n",
    "    \n",
    "    # Predict on the validation set\n",
    "    y_pred = xgb.predict(X_test)\n",
    "    \n",
    "    # Calculate RMSE\n",
    "    rmse = np.sqrt(mean_squared_error(y_test, y_pred))\n",
    "    \n",
    "    return rmse\n",
    "\n",
    "\n",
    "X_train, X_test, y_train, y_test = train_test_split(X, y, test_size=0.3, random_state=42)\n",
    "# Perform hyperparameter optimization using Optuna\n",
    "study = optuna.create_study(direction='minimize')\n",
    "study.optimize(objective, n_trials=50)\n",
    "\n",
    "# Print the best trial and parameters found\n",
    "print(\"Best trial:\")\n",
    "best_trial = study.best_trial\n",
    "print(f\"  Value: {best_trial.value}\")\n",
    "print(\"  Params: \")\n",
    "for key, value in best_trial.params.items():\n",
    "    print(f\"    {key}: {value}\")\n",
    "\n",
    "# Use the best parameters to train the final model\n",
    "best_params = best_trial.params\n",
    "xgb_best = XGBRegressor(**best_params)\n",
    "xgb_best.fit(X_train, y_train)\n",
    "\n",
    "# Make predictions on the test set\n",
    "y_pred_test = xgb_best.predict(X_test)\n",
    "\n",
    "# Calculate RMSE on the test set\n",
    "rmse_test = np.sqrt(mean_squared_error(y_test, y_pred_test))\n",
    "print(\"Test RMSE:\", rmse_test)"
   ]
  },
  {
   "cell_type": "code",
   "execution_count": 25,
   "id": "60e988b2",
   "metadata": {},
   "outputs": [
    {
     "name": "stdout",
     "output_type": "stream",
     "text": [
      "ERROR PERCENT = 2.240883231204455% \n"
     ]
    }
   ],
   "source": [
    "# Evaluation\n",
    "\n",
    "\n",
    "y_pred_test_xgb = xgb_best.predict(X_test)\n",
    "xgb_loss = mean_absolute_percentage_error(y_test, y_pred_test_xgb) \n",
    "print(f\"ERROR PERCENT = { mean_absolute_percentage_error(y_test, y_pred_test_xgb) }% \")"
   ]
  },
  {
   "cell_type": "code",
   "execution_count": 26,
   "id": "e76e77ea",
   "metadata": {},
   "outputs": [
    {
     "data": {
      "image/png": "[encoded data removed]",
      "text/plain": [
       "<Figure size 1000x600 with 1 Axes>"
      ]
     },
     "metadata": {},
     "output_type": "display_data"
    }
   ],
   "source": [
    "plt.figure(figsize=(10, 6))\n",
    "plt.scatter(X_test.index, y_test, color='blue', label='Actual')\n",
    "plt.scatter(X_test.index, y_pred_test_xgb , color='red', label='Predicted')\n",
    "plt.title('Actual vs Predicted Values')\n",
    "plt.xlabel('Time')\n",
    "plt.ylabel('Value')\n",
    "plt.legend()\n",
    "plt.show()"
   ]
  },
  {
   "cell_type": "code",
   "execution_count": 27,
   "id": "c0e81f62",
   "metadata": {},
   "outputs": [
    {
     "data": {
      "text/plain": [
       "<Figure size 1000x600 with 0 Axes>"
      ]
     },
     "metadata": {},
     "output_type": "display_data"
    },
    {
     "data": {
      "image/png": "[encoded data removed]",
      "text/plain": [
       "<Figure size 640x480 with 1 Axes>"
      ]
     },
     "metadata": {},
     "output_type": "display_data"
    }
   ],
   "source": [
    "from xgboost import plot_importance\n",
    "\n",
    "# Plot feature importance\n",
    "plt.figure(figsize=(10, 6))\n",
    "plot_importance(xgb_best, max_num_features=20)  # Adjust max_num_features as needed\n",
    "plt.title(\"Feature Importance\")\n",
    "plt.show()"
   ]
  },
  {
   "cell_type": "code",
   "execution_count": 28,
   "id": "4fdecfbb",
   "metadata": {},
   "outputs": [],
   "source": [
    "#Predict future\n",
    "\n",
    "\n",
    "start = df_xgb.index.max()\n",
    "end = start + pd.Timedelta(days=num_days_pred)"
   ]
  },
  {
   "cell_type": "code",
   "execution_count": 29,
   "id": "12d5450c",
   "metadata": {},
   "outputs": [],
   "source": [
    "future = pd.date_range(start=start,end=end,freq='1d')\n",
    "future_df = pd.DataFrame(index=future)\n",
    "future_df['isFuture']= True\n",
    "df_xgb['isFuture']= False\n",
    "df_and_future = pd.concat([df_xgb,future_df])\n",
    "df_and_future = create_features(df_and_future)\n",
    "df_and_future = add_lags(df_and_future)\n",
    "future_w_features = df_and_future.query('isFuture').copy()"
   ]
  },
  {
   "cell_type": "code",
   "execution_count": 30,
   "id": "010ee1fd",
   "metadata": {},
   "outputs": [],
   "source": [
    "future_w_features['pred'] = xgb_best.predict(future_w_features.drop(columns=['Close','isFuture']))"
   ]
  },
  {
   "cell_type": "code",
   "execution_count": 31,
   "id": "3c235de2",
   "metadata": {},
   "outputs": [
    {
     "data": {
      "text/html": [
       "<div>\n",
       "<style scoped>\n",
       "    .dataframe tbody tr th:only-of-type {\n",
       "        vertical-align: middle;\n",
       "    }\n",
       "\n",
       "    .dataframe tbody tr th {\n",
       "        vertical-align: top;\n",
       "    }\n",
       "\n",
       "    .dataframe thead th {\n",
       "        text-align: right;\n",
       "    }\n",
       "</style>\n",
       "<table border=\"1\" class=\"dataframe\">\n",
       "  <thead>\n",
       "    <tr style=\"text-align: right;\">\n",
       "      <th></th>\n",
       "      <th>pred</th>\n",
       "    </tr>\n",
       "  </thead>\n",
       "  <tbody>\n",
       "    <tr>\n",
       "      <th>2024-03-27</th>\n",
       "      <td>178.893738</td>\n",
       "    </tr>\n",
       "    <tr>\n",
       "      <th>2024-03-28</th>\n",
       "      <td>178.811935</td>\n",
       "    </tr>\n",
       "    <tr>\n",
       "      <th>2024-03-29</th>\n",
       "      <td>177.722076</td>\n",
       "    </tr>\n",
       "    <tr>\n",
       "      <th>2024-03-30</th>\n",
       "      <td>158.779205</td>\n",
       "    </tr>\n",
       "    <tr>\n",
       "      <th>2024-03-31</th>\n",
       "      <td>172.058472</td>\n",
       "    </tr>\n",
       "    <tr>\n",
       "      <th>2024-04-01</th>\n",
       "      <td>150.322784</td>\n",
       "    </tr>\n",
       "    <tr>\n",
       "      <th>2024-04-02</th>\n",
       "      <td>146.181259</td>\n",
       "    </tr>\n",
       "    <tr>\n",
       "      <th>2024-04-03</th>\n",
       "      <td>174.372757</td>\n",
       "    </tr>\n",
       "    <tr>\n",
       "      <th>2024-04-04</th>\n",
       "      <td>153.119324</td>\n",
       "    </tr>\n",
       "    <tr>\n",
       "      <th>2024-04-05</th>\n",
       "      <td>145.645447</td>\n",
       "    </tr>\n",
       "    <tr>\n",
       "      <th>2024-04-06</th>\n",
       "      <td>144.685104</td>\n",
       "    </tr>\n",
       "    <tr>\n",
       "      <th>2024-04-07</th>\n",
       "      <td>170.713852</td>\n",
       "    </tr>\n",
       "    <tr>\n",
       "      <th>2024-04-08</th>\n",
       "      <td>165.664413</td>\n",
       "    </tr>\n",
       "    <tr>\n",
       "      <th>2024-04-09</th>\n",
       "      <td>165.735947</td>\n",
       "    </tr>\n",
       "    <tr>\n",
       "      <th>2024-04-10</th>\n",
       "      <td>166.198273</td>\n",
       "    </tr>\n",
       "    <tr>\n",
       "      <th>2024-04-11</th>\n",
       "      <td>146.610046</td>\n",
       "    </tr>\n",
       "    <tr>\n",
       "      <th>2024-04-12</th>\n",
       "      <td>146.344009</td>\n",
       "    </tr>\n",
       "    <tr>\n",
       "      <th>2024-04-13</th>\n",
       "      <td>143.846024</td>\n",
       "    </tr>\n",
       "    <tr>\n",
       "      <th>2024-04-14</th>\n",
       "      <td>143.409088</td>\n",
       "    </tr>\n",
       "    <tr>\n",
       "      <th>2024-04-15</th>\n",
       "      <td>144.348007</td>\n",
       "    </tr>\n",
       "    <tr>\n",
       "      <th>2024-04-16</th>\n",
       "      <td>144.616196</td>\n",
       "    </tr>\n",
       "    <tr>\n",
       "      <th>2024-04-17</th>\n",
       "      <td>144.835190</td>\n",
       "    </tr>\n",
       "    <tr>\n",
       "      <th>2024-04-18</th>\n",
       "      <td>146.367050</td>\n",
       "    </tr>\n",
       "    <tr>\n",
       "      <th>2024-04-19</th>\n",
       "      <td>140.378616</td>\n",
       "    </tr>\n",
       "    <tr>\n",
       "      <th>2024-04-20</th>\n",
       "      <td>141.063950</td>\n",
       "    </tr>\n",
       "    <tr>\n",
       "      <th>2024-04-21</th>\n",
       "      <td>141.509247</td>\n",
       "    </tr>\n",
       "    <tr>\n",
       "      <th>2024-04-22</th>\n",
       "      <td>144.416016</td>\n",
       "    </tr>\n",
       "    <tr>\n",
       "      <th>2024-04-23</th>\n",
       "      <td>142.889374</td>\n",
       "    </tr>\n",
       "    <tr>\n",
       "      <th>2024-04-24</th>\n",
       "      <td>139.448425</td>\n",
       "    </tr>\n",
       "    <tr>\n",
       "      <th>2024-04-25</th>\n",
       "      <td>141.062637</td>\n",
       "    </tr>\n",
       "    <tr>\n",
       "      <th>2024-04-26</th>\n",
       "      <td>134.983536</td>\n",
       "    </tr>\n",
       "  </tbody>\n",
       "</table>\n",
       "</div>"
      ],
      "text/plain": [
       "                  pred\n",
       "2024-03-27  178.893738\n",
       "2024-03-28  178.811935\n",
       "2024-03-29  177.722076\n",
       "2024-03-30  158.779205\n",
       "2024-03-31  172.058472\n",
       "2024-04-01  150.322784\n",
       "2024-04-02  146.181259\n",
       "2024-04-03  174.372757\n",
       "2024-04-04  153.119324\n",
       "2024-04-05  145.645447\n",
       "2024-04-06  144.685104\n",
       "2024-04-07  170.713852\n",
       "2024-04-08  165.664413\n",
       "2024-04-09  165.735947\n",
       "2024-04-10  166.198273\n",
       "2024-04-11  146.610046\n",
       "2024-04-12  146.344009\n",
       "2024-04-13  143.846024\n",
       "2024-04-14  143.409088\n",
       "2024-04-15  144.348007\n",
       "2024-04-16  144.616196\n",
       "2024-04-17  144.835190\n",
       "2024-04-18  146.367050\n",
       "2024-04-19  140.378616\n",
       "2024-04-20  141.063950\n",
       "2024-04-21  141.509247\n",
       "2024-04-22  144.416016\n",
       "2024-04-23  142.889374\n",
       "2024-04-24  139.448425\n",
       "2024-04-25  141.062637\n",
       "2024-04-26  134.983536"
      ]
     },
     "execution_count": 31,
     "metadata": {},
     "output_type": "execute_result"
    }
   ],
   "source": [
    "prediction_xgb = pd.DataFrame(future_w_features['pred'])\n",
    "prediction_xgb"
   ]
  },
  {
   "cell_type": "markdown",
   "id": "41dc949a",
   "metadata": {},
   "source": [
    "ARIMA"
   ]
  },
  {
   "cell_type": "code",
   "execution_count": 32,
   "id": "4d9ae01a",
   "metadata": {},
   "outputs": [],
   "source": [
    "df_arima = stock.copy()"
   ]
  },
  {
   "cell_type": "code",
   "execution_count": 34,
   "id": "5a8996da",
   "metadata": {},
   "outputs": [],
   "source": [
    "# 80-20 split\n",
    "\n",
    "split_date = df_arima.index[int(len(df_arima) * 0.8)]\n",
    "train_arima = df_arima.loc[df_arima.index <= split_date].copy()\n",
    "test_arima = df_arima.loc[df_arima.index > split_date].copy()"
   ]
  },
  {
   "cell_type": "code",
   "execution_count": 35,
   "id": "e446bd12",
   "metadata": {},
   "outputs": [
    {
     "name": "stdout",
     "output_type": "stream",
     "text": [
      "Performing stepwise search to minimize aic\n",
      " ARIMA(2,1,2)(0,0,0)[0] intercept   : AIC=2960.076, Time=0.90 sec\n",
      " ARIMA(0,1,0)(0,0,0)[0] intercept   : AIC=2955.716, Time=0.02 sec\n",
      " ARIMA(1,1,0)(0,0,0)[0] intercept   : AIC=2957.716, Time=0.06 sec\n",
      " ARIMA(0,1,1)(0,0,0)[0] intercept   : AIC=2957.716, Time=0.05 sec\n",
      " ARIMA(0,1,0)(0,0,0)[0]             : AIC=2953.805, Time=0.02 sec\n",
      " ARIMA(1,1,1)(0,0,0)[0] intercept   : AIC=2959.716, Time=0.08 sec\n",
      "\n",
      "Best model:  ARIMA(0,1,0)(0,0,0)[0]          \n",
      "Total fit time: 1.156 seconds\n"
     ]
    }
   ],
   "source": [
    "# Try to find the best parameters for arima model \n",
    "stepwise_fit = auto_arima(train_arima['Close'],trace=True,suppress_warnings=True)\n",
    "# assign the parameter to \"best_order\" variable\n",
    "best_order = stepwise_fit.get_params()['order']"
   ]
  },
  {
   "cell_type": "code",
   "execution_count": 36,
   "id": "7e96850c",
   "metadata": {},
   "outputs": [],
   "source": [
    "arima = ARIMA(train_arima['Close'], order=best_order)\n",
    "arima = arima.fit()"
   ]
  },
  {
   "cell_type": "code",
   "execution_count": 37,
   "id": "0ed15362",
   "metadata": {},
   "outputs": [],
   "source": [
    "start = len(train_arima)\n",
    "end = len(test_arima) + len(train_arima)"
   ]
  },
  {
   "cell_type": "code",
   "execution_count": 38,
   "id": "c5ec366c",
   "metadata": {},
   "outputs": [],
   "source": [
    "pred_arima = arima.predict(start=start,end=end-1)"
   ]
  },
  {
   "cell_type": "code",
   "execution_count": 39,
   "id": "919b0f8d",
   "metadata": {},
   "outputs": [],
   "source": [
    "pred_arima.index = test_arima.index"
   ]
  },
  {
   "cell_type": "code",
   "execution_count": 40,
   "id": "13d039d9",
   "metadata": {},
   "outputs": [
    {
     "data": {
      "text/plain": [
       "<Axes: xlabel='Date'>"
      ]
     },
     "execution_count": 40,
     "metadata": {},
     "output_type": "execute_result"
    },
    {
     "data": {
      "image/png": "[encoded data removed]",
      "text/plain": [
       "<Figure size 640x480 with 1 Axes>"
      ]
     },
     "metadata": {},
     "output_type": "display_data"
    }
   ],
   "source": [
    "pred_arima.plot()"
   ]
  },
  {
   "cell_type": "code",
   "execution_count": 41,
   "id": "fcd25f70",
   "metadata": {},
   "outputs": [
    {
     "name": "stdout",
     "output_type": "stream",
     "text": [
      "ERROR PERCENT = 10.512121791887873% \n"
     ]
    }
   ],
   "source": [
    "arima_loss = mean_absolute_percentage_error(test_arima['Close'],pred_arima )\n",
    "print(f\"ERROR PERCENT = { mean_absolute_percentage_error(test_arima['Close'],pred_arima ) }% \")"
   ]
  },
  {
   "cell_type": "code",
   "execution_count": 42,
   "id": "d4089e2c",
   "metadata": {},
   "outputs": [
    {
     "name": "stdout",
     "output_type": "stream",
     "text": [
      "Performing stepwise search to minimize aic\n",
      " ARIMA(2,1,2)(0,0,0)[0] intercept   : AIC=inf, Time=1.16 sec\n",
      " ARIMA(0,1,0)(0,0,0)[0] intercept   : AIC=3642.955, Time=0.03 sec\n",
      " ARIMA(1,1,0)(0,0,0)[0] intercept   : AIC=3644.954, Time=0.07 sec\n",
      " ARIMA(0,1,1)(0,0,0)[0] intercept   : AIC=3644.954, Time=0.09 sec\n",
      " ARIMA(0,1,0)(0,0,0)[0]             : AIC=3641.005, Time=0.02 sec\n",
      " ARIMA(1,1,1)(0,0,0)[0] intercept   : AIC=3646.954, Time=0.11 sec\n",
      "\n",
      "Best model:  ARIMA(0,1,0)(0,0,0)[0]          \n",
      "Total fit time: 1.486 seconds\n"
     ]
    }
   ],
   "source": [
    "# best parameters for arima model \n",
    "stepwise_fit = auto_arima(df_arima['Close'],trace=True,suppress_warnings=True)\n",
    "# assign the parameter to \"best_order\" variable\n",
    "best_order = stepwise_fit.get_params()['order']\n",
    "\n",
    "arima = ARIMA(df_arima['Close'], order=best_order)\n",
    "arima = arima.fit()"
   ]
  },
  {
   "cell_type": "code",
   "execution_count": 43,
   "id": "9770975c",
   "metadata": {},
   "outputs": [],
   "source": [
    "start = len(df_arima)\n",
    "end = len(df_arima) + num_days_pred\n",
    "arima_forecast = arima.predict(start=start,end=end)"
   ]
  },
  {
   "cell_type": "code",
   "execution_count": 44,
   "id": "16dd6e94",
   "metadata": {},
   "outputs": [],
   "source": [
    "start = df_arima.index.max()\n",
    "end = start + pd.Timedelta(days=num_days_pred)\n",
    "arima_forecast.index = pd.date_range(start, end, freq='1d')"
   ]
  },
  {
   "cell_type": "code",
   "execution_count": 45,
   "id": "9a6aa52f",
   "metadata": {},
   "outputs": [],
   "source": [
    "arima_forecast = pd.DataFrame(arima_forecast)"
   ]
  },
  {
   "cell_type": "code",
   "execution_count": 46,
   "id": "5e54b302",
   "metadata": {},
   "outputs": [
    {
     "data": {
      "image/png": "[encoded data removed]",
      "text/plain": [
       "<Figure size 1000x500 with 1 Axes>"
      ]
     },
     "metadata": {},
     "output_type": "display_data"
    }
   ],
   "source": [
    "fig, ax  = plt.subplots(figsize=(10,5))\n",
    "arima_forecast.plot(color='orange',ax=ax)\n",
    "prediction_xgb.plot(color = 'blue',ax=ax)\n",
    "plt.legend(['Arima','XGB'])\n",
    "plt.xlabel('Time')\n",
    "plt.ylabel('Close Price')\n",
    "plt.title(f\"Price Prediction in the Next {num_days_pred} Days\");"
   ]
  },
  {
   "cell_type": "code",
   "execution_count": 47,
   "id": "7898a3e2",
   "metadata": {},
   "outputs": [
    {
     "name": "stdout",
     "output_type": "stream",
     "text": [
      "XGB Acc : 97.75911676879555 \n",
      "Arima Acc : 89.48787820811212\n"
     ]
    }
   ],
   "source": [
    "print(f\"XGB Acc : {100-xgb_loss} \\nArima Acc : {100-arima_loss}\")"
   ]
  },
  {
   "cell_type": "code",
   "execution_count": null,
   "id": "643c5081",
   "metadata": {},
   "outputs": [],
   "source": []
  }
 ],
 "metadata": {
  "kernelspec": {
   "display_name": "Python 3 (ipykernel)",
   "language": "python",
   "name": "python3"
  },
  "language_info": {
   "codemirror_mode": {
    "name": "ipython",
    "version": 3
   },
   "file_extension": ".py",
   "mimetype": "text/x-python",
   "name": "python",
   "nbconvert_exporter": "python",
   "pygments_lexer": "ipython3",
   "version": "3.11.5"
  }
 },
 "nbformat": 4,
 "nbformat_minor": 5
}
