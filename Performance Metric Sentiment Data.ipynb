{
 "cells": [
  {
   "cell_type": "markdown",
   "id": "f28e30ce",
   "metadata": {},
   "source": [
    "### Logistic Regression prediction steps\n",
    "* Train a sentiment classification model using the labelled_df.\n",
    "* Use the trained model to predict sentiment on the unlabelled_df.\n",
    "* Validate the predictions against the known sentiments in the labelled_df."
   ]
  },
  {
   "cell_type": "markdown",
   "id": "6072b7ce",
   "metadata": {},
   "source": [
    "## Logistic Regression"
   ]
  },
  {
   "cell_type": "code",
   "execution_count": 7,
   "id": "d2336b94",
   "metadata": {},
   "outputs": [],
   "source": [
    "import pandas as pd\n",
    "from sklearn.feature_extraction.text import TfidfVectorizer\n",
    "from sklearn.linear_model import LogisticRegression\n",
    "from sklearn.metrics import accuracy_score\n",
    "from sklearn.model_selection import train_test_split\n",
    "\n"
   ]
  },
  {
   "cell_type": "code",
   "execution_count": 2,
   "id": "a80f264c",
   "metadata": {},
   "outputs": [
    {
     "data": {
      "text/html": [
       "<div>\n",
       "<style scoped>\n",
       "    .dataframe tbody tr th:only-of-type {\n",
       "        vertical-align: middle;\n",
       "    }\n",
       "\n",
       "    .dataframe tbody tr th {\n",
       "        vertical-align: top;\n",
       "    }\n",
       "\n",
       "    .dataframe thead th {\n",
       "        text-align: right;\n",
       "    }\n",
       "</style>\n",
       "<table border=\"1\" class=\"dataframe\">\n",
       "  <thead>\n",
       "    <tr style=\"text-align: right;\">\n",
       "      <th></th>\n",
       "      <th>Journal Notes</th>\n",
       "    </tr>\n",
       "  </thead>\n",
       "  <tbody>\n",
       "    <tr>\n",
       "      <th>0</th>\n",
       "      <td>The asset is trading below its 200-day moving ...</td>\n",
       "    </tr>\n",
       "    <tr>\n",
       "      <th>1</th>\n",
       "      <td>The asset is trading below its 200-day moving ...</td>\n",
       "    </tr>\n",
       "    <tr>\n",
       "      <th>2</th>\n",
       "      <td>The asset is forming a symmetrical pattern (tr...</td>\n",
       "    </tr>\n",
       "    <tr>\n",
       "      <th>3</th>\n",
       "      <td>Bullish Channel: The price has been trading wi...</td>\n",
       "    </tr>\n",
       "    <tr>\n",
       "      <th>4</th>\n",
       "      <td>Sellers are dominating at key resistance level...</td>\n",
       "    </tr>\n",
       "  </tbody>\n",
       "</table>\n",
       "</div>"
      ],
      "text/plain": [
       "                                       Journal Notes\n",
       "0  The asset is trading below its 200-day moving ...\n",
       "1  The asset is trading below its 200-day moving ...\n",
       "2  The asset is forming a symmetrical pattern (tr...\n",
       "3  Bullish Channel: The price has been trading wi...\n",
       "4  Sellers are dominating at key resistance level..."
      ]
     },
     "execution_count": 2,
     "metadata": {},
     "output_type": "execute_result"
    }
   ],
   "source": [
    "import pandas as pd\n",
    "import re\n",
    "\n",
    "file_path = r\"C:\\Users\\sarth\\Downloads\\dataset-journal-entries.csv\"\n",
    "unlabelled_df = pd.read_csv(file_path)\n",
    "unlabelled_df.head()"
   ]
  },
  {
   "cell_type": "code",
   "execution_count": 3,
   "id": "f3a71861",
   "metadata": {},
   "outputs": [
    {
     "data": {
      "text/html": [
       "<div>\n",
       "<style scoped>\n",
       "    .dataframe tbody tr th:only-of-type {\n",
       "        vertical-align: middle;\n",
       "    }\n",
       "\n",
       "    .dataframe tbody tr th {\n",
       "        vertical-align: top;\n",
       "    }\n",
       "\n",
       "    .dataframe thead th {\n",
       "        text-align: right;\n",
       "    }\n",
       "</style>\n",
       "<table border=\"1\" class=\"dataframe\">\n",
       "  <thead>\n",
       "    <tr style=\"text-align: right;\">\n",
       "      <th></th>\n",
       "      <th>Journal Notes</th>\n",
       "      <th>Sentiment</th>\n",
       "    </tr>\n",
       "  </thead>\n",
       "  <tbody>\n",
       "    <tr>\n",
       "      <th>0</th>\n",
       "      <td>Wave C is supposed to end at a specific zone. ...</td>\n",
       "      <td>Positive</td>\n",
       "    </tr>\n",
       "    <tr>\n",
       "      <th>1</th>\n",
       "      <td>The asset is forming a symmetrical pattern (tr...</td>\n",
       "      <td>Positive</td>\n",
       "    </tr>\n",
       "    <tr>\n",
       "      <th>2</th>\n",
       "      <td>From the Elliott Wave perspective, we have com...</td>\n",
       "      <td>Positive</td>\n",
       "    </tr>\n",
       "    <tr>\n",
       "      <th>3</th>\n",
       "      <td>The asset presents a potential buying opportun...</td>\n",
       "      <td>Positive</td>\n",
       "    </tr>\n",
       "    <tr>\n",
       "      <th>4</th>\n",
       "      <td>Bullish Channel: The price has been trading wi...</td>\n",
       "      <td>Positive</td>\n",
       "    </tr>\n",
       "  </tbody>\n",
       "</table>\n",
       "</div>"
      ],
      "text/plain": [
       "                                       Journal Notes Sentiment\n",
       "0  Wave C is supposed to end at a specific zone. ...  Positive\n",
       "1  The asset is forming a symmetrical pattern (tr...  Positive\n",
       "2  From the Elliott Wave perspective, we have com...  Positive\n",
       "3  The asset presents a potential buying opportun...  Positive\n",
       "4  Bullish Channel: The price has been trading wi...  Positive"
      ]
     },
     "execution_count": 3,
     "metadata": {},
     "output_type": "execute_result"
    }
   ],
   "source": [
    "path = r\"C:\\Users\\sarth\\Downloads\\sentiment-test.csv\"\n",
    "labelled_df = pd.read_csv(path)\n",
    "\n",
    "labelled_df.head()"
   ]
  },
  {
   "cell_type": "code",
   "execution_count": 8,
   "id": "e96243d9",
   "metadata": {},
   "outputs": [
    {
     "name": "stdout",
     "output_type": "stream",
     "text": [
      "Validation Accuracy: 0.7333333333333333\n",
      "Predicted Sentiments on Unlabelled Data:\n",
      "                                           Journal Notes Predicted Sentiment\n",
      "0      The asset is trading below its 200-day moving ...            Negative\n",
      "1      The asset is trading below its 200-day moving ...            Negative\n",
      "2      The asset is forming a symmetrical pattern (tr...            Positive\n",
      "3      Bullish Channel: The price has been trading wi...            Positive\n",
      "4      Sellers are dominating at key resistance level...            Negative\n",
      "...                                                  ...                 ...\n",
      "35240  The asset is range-bound, with support and res...             Neutral\n",
      "35241  RSI is trending upwards, indicating increasing...            Positive\n",
      "35242  The asset is trading near its moving averages,...             Neutral\n",
      "35243  The asset has broken above a significant resis...            Positive\n",
      "35244  Volume is increasing as price moves higher, co...            Positive\n",
      "\n",
      "[35245 rows x 2 columns]\n"
     ]
    }
   ],
   "source": [
    "\n",
    "# Split the labelled data into train and validation sets\n",
    "X_train, X_val, y_train, y_val = train_test_split(labelled_df['Journal Notes'], labelled_df['Sentiment'], test_size=0.2, random_state=42)\n",
    "\n",
    "# Vectorize the text data\n",
    "vectorizer = TfidfVectorizer(max_features=1000)  # You can adjust max_features as needed\n",
    "X_train_vectorized = vectorizer.fit_transform(X_train)\n",
    "X_val_vectorized = vectorizer.transform(X_val)\n",
    "\n",
    "# Train a logistic regression model\n",
    "model = LogisticRegression(max_iter=1000)\n",
    "model.fit(X_train_vectorized, y_train)\n",
    "\n",
    "# Predict sentiment on unlabelled data\n",
    "unlabelled_X_vectorized = vectorizer.transform(unlabelled_df['Journal Notes'])\n",
    "unlabelled_df['Predicted Sentiment'] = model.predict(unlabelled_X_vectorized)\n",
    "\n",
    "# Validate predictions against labelled data\n",
    "accuracy = accuracy_score(y_val, model.predict(X_val_vectorized))\n",
    "print(\"Validation Accuracy:\", accuracy)\n",
    "\n",
    "print(\"Predicted Sentiments on Unlabelled Data:\")\n",
    "print(unlabelled_df[['Journal Notes', 'Predicted Sentiment']])"
   ]
  },
  {
   "cell_type": "markdown",
   "id": "4530b76e",
   "metadata": {},
   "source": [
    "## NLTK VADER"
   ]
  },
  {
   "cell_type": "code",
   "execution_count": 10,
   "id": "2a731460",
   "metadata": {},
   "outputs": [
    {
     "name": "stdout",
     "output_type": "stream",
     "text": [
      "Predicted Sentiments on Unlabelled Data:\n",
      "                                           Journal Notes VADER Sentiment\n",
      "0      the asset is trading below its 200 day moving ...        Positive\n",
      "1      the asset is trading below its 200 day moving ...        Negative\n",
      "2      the asset is forming a symmetrical pattern tri...        Positive\n",
      "3      bullish channel the price has been trading wit...        Positive\n",
      "4      sellers are dominating at key resistance level...        Negative\n",
      "...                                                  ...             ...\n",
      "35240  the asset is range bound with support and resi...        Positive\n",
      "35241  rsi is trending upwards indicating increasing ...        Positive\n",
      "35242  the asset is trading near its moving averages ...        Positive\n",
      "35243  the asset has broken above a significant resis...        Positive\n",
      "35244  volume is increasing as price moves higher con...        Positive\n",
      "\n",
      "[35245 rows x 2 columns]\n"
     ]
    }
   ],
   "source": [
    "import pandas as pd\n",
    "import re\n",
    "from nltk.sentiment.vader import SentimentIntensityAnalyzer\n",
    "\n",
    "\n",
    "\n",
    "# Preprocess text data\n",
    "def preprocess_text(text):\n",
    "    text = re.sub(r'\\W', ' ', text)  # Removing non-word characters\n",
    "    text = re.sub(r'\\s+', ' ', text)  # Removing extra whitespaces\n",
    "    return text.lower().strip()\n",
    "\n",
    "labelled_df['Journal Notes'] = labelled_df['Journal Notes'].apply(preprocess_text)\n",
    "unlabelled_df['Journal Notes'] = unlabelled_df['Journal Notes'].apply(preprocess_text)\n",
    "\n",
    "# Initialize the VADER sentiment analyzer\n",
    "sid = SentimentIntensityAnalyzer()\n",
    "\n",
    "# Predict sentiment on unlabelled data\n",
    "unlabelled_df['VADER Sentiment'] = unlabelled_df['Journal Notes'].apply(lambda x: 'Positive' if sid.polarity_scores(x)['compound'] > 0 else ('Negative' if sid.polarity_scores(x)['compound'] < 0 else 'Neutral'))\n",
    "\n",
    "# Display predictions\n",
    "print(\"Predicted Sentiments on Unlabelled Data:\")\n",
    "print(unlabelled_df[['Journal Notes', 'VADER Sentiment']])\n"
   ]
  },
  {
   "cell_type": "code",
   "execution_count": 16,
   "id": "99181310",
   "metadata": {},
   "outputs": [
    {
     "name": "stdout",
     "output_type": "stream",
     "text": [
      "Validation Accuracy: 0.6\n"
     ]
    }
   ],
   "source": [
    "\n",
    "# Preprocess the text data\n",
    "labelled_df['Journal Notes'] = labelled_df['Journal Notes'].apply(preprocess_text)\n",
    "\n",
    "# Predicted sentiments from VADER\n",
    "predicted_sentiments = unlabelled_df.iloc[:5]['VADER Sentiment']  # Take the first 5 predictions to match labelled data\n",
    "\n",
    "# Actual sentiments from labelled data\n",
    "actual_sentiments = labelled_df['Sentiment']\n",
    "\n",
    "# Calculate accuracy\n",
    "accuracy = accuracy_score(actual_sentiments, predicted_sentiments)\n",
    "print(\"Validation Accuracy:\", accuracy)\n"
   ]
  }
 ],
 "metadata": {
  "kernelspec": {
   "display_name": "Python 3 (ipykernel)",
   "language": "python",
   "name": "python3"
  },
  "language_info": {
   "codemirror_mode": {
    "name": "ipython",
    "version": 3
   },
   "file_extension": ".py",
   "mimetype": "text/x-python",
   "name": "python",
   "nbconvert_exporter": "python",
   "pygments_lexer": "ipython3",
   "version": "3.11.5"
  }
 },
 "nbformat": 4,
 "nbformat_minor": 5
}
